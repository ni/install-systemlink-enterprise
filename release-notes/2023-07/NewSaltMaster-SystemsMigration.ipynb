{
 "cells": [
  {
   "cell_type": "code",
   "execution_count": 1,
   "id": "4daa69fa-5250-4d00-8456-99e464827e1e",
   "metadata": {},
   "outputs": [
    {
     "name": "stdout",
     "output_type": "stream",
     "text": [
      "Getting the managed systems\n",
      "Found 16 managed systems\n",
      "\n",
      "Getting the systems keys\n",
      "Found 6 approved systems\n",
      "Found 38 pending systems\n",
      "Found 0 denied systems\n",
      "Found 0 rejected systems\n",
      "\n",
      "Approving the pending systems that are currently managed\n",
      "Found 2 managed systems that are in the pending state\n",
      "\n",
      "Approving 1 batches of 50 systems\n",
      "Approving 2 minions, batch: 1\n",
      "[{'action': 'ACCEPT',\n",
      " 'id': 'BTS-LabPC-1',\n",
      " 'key': None,\n",
      " 'workspace': 'ccae109b-38dc-4ba5-894b-93d0625326e2'}, {'action': 'ACCEPT',\n",
      " 'id': 'Precision_5570--SN-GPP8WT3--MAC-14-75-5B-DC-5F-AA',\n",
      " 'key': None,\n",
      " 'workspace': 'ccae109b-38dc-4ba5-894b-93d0625326e2'}]\n",
      "Manage Systems Keys Result: {} {'error': None}\n"
     ]
    }
   ],
   "source": [
    "import math\n",
    "import os\n",
    "import json\n",
    "import requests\n",
    "import time\n",
    "\n",
    "import systemlink.clients.nisysmgmt.api.systems_api as systems_api\n",
    "from systemlink.clients.nisysmgmt.models import QuerySystemsRequest, ManageKeysRequest, KeyRequest, KeyAction\n",
    "\n",
    "systems_handle = systems_api.SystemsApi(systems_api.ApiClient())\n",
    "\n",
    "print(\"Getting the managed systems\")\n",
    "projection = 'new(id, workspace)'\n",
    "query_systems_request = QuerySystemsRequest(projection = projection)\n",
    "managed_systems = (await systems_handle.get_systems_by_query(query_systems_request)).data\n",
    "print(\"Found {0} managed systems\\n\".format(len(managed_systems)))\n",
    "# print(managed_systems)\n",
    "\n",
    "print(\"Getting the systems keys\")\n",
    "systems_keys = await systems_handle.get_systems_keys()\n",
    "print(\"Found {0} approved systems\".format(len(systems_keys.systems_approved) if systems_keys.systems_approved else 0))\n",
    "print(\"Found {0} pending systems\".format(len(systems_keys.systems_pending) if systems_keys.systems_pending else 0))\n",
    "print(\"Found {0} denied systems\".format(len(systems_keys.systems_denied) if systems_keys.systems_denied else 0))\n",
    "print(\"Found {0} rejected systems\\n\".format(len(systems_keys.systems_rejected) if systems_keys.systems_rejected else 0 ))\n",
    "# print(systems_keys.systems_pending)\n",
    "\n",
    "print(\"Approving the pending systems that are currently managed\")\n",
    "if systems_keys.systems_pending is None:\n",
    "    systems_keys.systems_pending = []\n",
    "managed_systems_to_approve = [system for system in managed_systems if system.get(\"id\") in systems_keys.systems_pending]\n",
    "print(\"Found {} managed systems that are in the pending state\\n\".format(len(managed_systems_to_approve)))\n",
    "# managed_systems_to_approve = [{\"id\":\"Precision_5570--SN-GPP8WT3--MAC-14-75-5B-DC-5F-AA\",\"workspace\":\"846e294a-a007-47ac-9fc2-fac07eab240e\"}]\n",
    "\n",
    "batch_size = 50\n",
    "batches = math.ceil(len(managed_systems_to_approve) / batch_size)\n",
    "print(\"Approving {} batches of {} systems\".format(batches, batch_size))\n",
    "\n",
    "for i in range(0, batches):\n",
    "    minions = managed_systems_to_approve[i * batch_size : (i+1) * batch_size]\n",
    "    print(\"Approving {} minions, batch: {}\".format(len(minions), i+1))\n",
    "    keys_actions = [KeyRequest(minion.get(\"id\"), KeyAction.ACCEPT, None, minion.get(\"workspace\")) for minion in minions]\n",
    "    print(keys_actions)\n",
    "    manage_keys_request = ManageKeysRequest(is_async=True, key_actions = keys_actions)\n",
    "    result = await systems_handle.manage_systems_keys(manage_keys_request)\n",
    "    print(\"Manage Systems Keys Result: {}\", result)\n",
    "    time.sleep(10)\n",
    "\n"
   ]
  },
  {
   "cell_type": "code",
   "execution_count": null,
   "id": "ed471076-bc05-4b9b-b0a0-b2a41c5cb1fe",
   "metadata": {},
   "outputs": [],
   "source": []
  },
  {
   "cell_type": "code",
   "execution_count": null,
   "id": "9e88969c-35f6-40aa-a06e-0aabcc0ca8c4",
   "metadata": {},
   "outputs": [],
   "source": []
  },
  {
   "cell_type": "code",
   "execution_count": null,
   "id": "a7d1876b-ed90-4efb-99e4-a275911ce434",
   "metadata": {},
   "outputs": [],
   "source": []
  }
 ],
 "metadata": {
  "kernelspec": {
   "display_name": "Python 3 (ipykernel)",
   "language": "python",
   "name": "python3"
  },
  "language_info": {
   "codemirror_mode": {
    "name": "ipython",
    "version": 3
   },
   "file_extension": ".py",
   "mimetype": "text/x-python",
   "name": "python",
   "nbconvert_exporter": "python",
   "pygments_lexer": "ipython3",
   "version": "3.10.8"
  }
 },
 "nbformat": 4,
 "nbformat_minor": 5
}
